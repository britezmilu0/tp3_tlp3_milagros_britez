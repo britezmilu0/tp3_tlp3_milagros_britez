{
 "cells": [
  {
   "cell_type": "markdown",
   "id": "498731c6",
   "metadata": {},
   "source": [
    "# Trabajo Practico n3 - Trabajando con Lists y Sets.\n",
    "## Criterios de evaluación.\n",
    "\n",
    "* Se deben utilizar nombres de variables descriptivos y claros (Utilizar la nomeclatura correspondiente para los nombres de variables).\n",
    "* Comentarios claros y concisos que expliquen el propósito de cada sección del código.\n",
    "* Utilizar mensajes de commit **descriptivos**. (Puedes utilizar la extension CONVENTIONAL COMMIT de VS-CODE). \n",
    "* Entrega en tiempo y forma.\n",
    "* Todo el código desarrollado debe ser subido a un repositorio en GitHub (el nombre del repositorio de seguir la siguiente estructura: tp3_tlp3_nombre_apellido).\n",
    "* Para resolver las actividades se debe insertar casillas de codigo entre cada actividad del cuaderno de Jupyter\n",
    "* El repositorio de GitHub debe incluir un archivo README.md con las instrucciones necesarias para la correcta ejecución del código.\n",
    "\n",
    "### ¡Importante!\n",
    "**El incumplimiento de los criterios de evaluación restará puntos en la nota final del práctico!**"
   ]
  },
  {
   "cell_type": "markdown",
   "id": "b361a7b6",
   "metadata": {},
   "source": [
    "### Actividad 1: \n",
    "Suma de todos los elementos de una lista, utilizando bucles repetitivos (for, while).\n",
    "\n",
    "Justificación: para sumar todos los elementos de la lista numbers creamos una variable llamada suma que tiene el valor de 0, es la que se va encargar de guardar los valores de la suma. Luego con un bucle for vamos sumando cada elemento el cual se guarda en suma y vamos impimiento el valor de suma. \n"
   ]
  },
  {
   "cell_type": "code",
   "execution_count": 1,
   "id": "26009294",
   "metadata": {},
   "outputs": [
    {
     "name": "stdout",
     "output_type": "stream",
     "text": [
      "La suma total es:  14\n",
      "La suma total es:  37\n",
      "La suma total es:  71\n",
      "La suma total es:  119\n",
      "La suma total es:  204\n"
     ]
    }
   ],
   "source": [
    "\n",
    "# todo:\n",
    "\n",
    "numbers = [14, 23, 34, 48, 85]\n",
    "suma = 0\n",
    "\n",
    "for num in numbers: \n",
    " suma += num\n",
    " print (\"La suma total es: \", suma)"
   ]
  },
  {
   "cell_type": "markdown",
   "id": "0c239195",
   "metadata": {},
   "source": [
    "### Actividad 2: \n",
    "Encontrar el número más grande en una lista, utilizando bucles repetitivos (for, while).\n",
    "\n",
    "Justificación: utilizamos el from random para generar números aleatorios, con random_numers se genera 5 numeors aletorios en un rango del 1 al 100. Imprimimos para saber que números se generaron, luego creamos una variable de maximo_numbers y toma el primer elemento en la posicion 0 de los numeros aleatorios que se crearon y lo guarda en la variable. Con un bucle for si el numero es mayor que mayor que el numero guardado en la variable maximo_numbers se reeplaza ese valor en la variable. asi va recorriendo e imprime el valor mas alto."
   ]
  },
  {
   "cell_type": "code",
   "execution_count": 9,
   "id": "3611d25a",
   "metadata": {},
   "outputs": [
    {
     "name": "stdout",
     "output_type": "stream",
     "text": [
      "Los número aleatorios son:  [43, 18, 73, 73, 9]\n",
      "El número más grande es:  73\n"
     ]
    }
   ],
   "source": [
    "\n",
    "# todo:\n",
    "\n",
    "from random import randint\n",
    "random_numbers =[randint(1, 100) for i in range(5)]\n",
    "print(\"Los número aleatorios son: \", random_numbers)\n",
    "maximo_numbers= random_numbers[0]\n",
    "\n",
    "for num in random_numbers:\n",
    "    if num > maximo_numbers: \n",
    "        maximo_numbers= num\n",
    "        print(\"El número más grande es: \", maximo_numbers)"
   ]
  },
  {
   "cell_type": "markdown",
   "id": "70a24b97",
   "metadata": {},
   "source": [
    "### Actividad 3:\n",
    "Contar cuántas veces aparece un número específico. Utiliza estructuras repetitivas para la resolucion de este ejercicio. \n",
    "\n",
    "Justificación: se crea una lista con 20 números generados aleatoriamente en un rango del 1 al 200, luego se imprimern estos números. Se crea una variable de num_buscado y se le pide al usuario que ingrese el número que desea contar cuantas veces aparece, se agrega int() para convertirlo en un número entero. Creamos un contador que inicia en 0 y luego con un bucle for recorremos la lista generada y preguntamos si el numero es igual al numero que el usuario eligío se suma el contador. Por ultimo en el caso de que el número no exita agreguamos un if para avisale al usuario y en el caso de que si, mostrar cuantas veces se repite."
   ]
  },
  {
   "cell_type": "code",
   "execution_count": 12,
   "id": "a9c8ebc7",
   "metadata": {},
   "outputs": [
    {
     "name": "stdout",
     "output_type": "stream",
     "text": [
      "Los número generados son :  [179, 164, 72, 112, 60, 146, 79, 102, 14, 195, 18, 39, 92, 165, 194, 50, 137, 25, 121, 143]\n",
      "El número 45 no existe en la lista\n"
     ]
    }
   ],
   "source": [
    "\n",
    "# todo:\n",
    "\n",
    "lists = [randint(1, 200) for i in range(20)]\n",
    "print(\"Los número generados son : \", lists)\n",
    "\n",
    "num_buscado= int(input(\"Ingresa el número que deseas contar\"))\n",
    "\n",
    "contador= 0 \n",
    "for num in lists:\n",
    "    if num == num_buscado:\n",
    "        contador += 1\n",
    "\n",
    "if contador > 0 : \n",
    "    print(f\"El número {num_buscado} aparece {contador} veces \")\n",
    "else: \n",
    "    print(f\"El número {num_buscado} no existe en la lista\")\n",
    "\n"
   ]
  },
  {
   "cell_type": "markdown",
   "id": "b8dac397",
   "metadata": {},
   "source": [
    "### Actividad 4: \n",
    "Invertir una lista sin usar reverse() ni [::-1]\n",
    "\n",
    "Justificación: nse genera una lista aleatoria de 8 números del 1 al 50, se imprime esta lista, luego creamos una lista nuemra que va ser la inversa a la que ya exite. Con un bucle for utilizamos range(), recorremos toda la lista y utlizamos -1 para que arranque en el utlimo indice, -1 para que el bucle termine a llegar a 0,-1 para que el bucle vaya en reversa. Luego utilizamos list_invert.append(lists_two[i]) para que a medida que la lista se recorra en reversa."
   ]
  },
  {
   "cell_type": "code",
   "execution_count": 13,
   "id": "d04fd492",
   "metadata": {},
   "outputs": [
    {
     "name": "stdout",
     "output_type": "stream",
     "text": [
      "Lista original generada :  [3, 26, 23, 36, 19, 29, 8, 39]\n",
      "La lista invertida :  [39, 8, 29, 19, 36, 23, 26, 3]\n"
     ]
    }
   ],
   "source": [
    "\n",
    "# todo:\n",
    "\n",
    "lists_two = [randint(1, 50) for i in range(8)]\n",
    "print(\"Lista original generada : \", lists_two)\n",
    "\n",
    "lista_invert = []\n",
    "\n",
    "for i in range(len(lists_two) -1, -1, -1):\n",
    "    lista_invert.append(lists_two[i])\n",
    "print(\"La lista invertida : \", lista_invert)\n"
   ]
  },
  {
   "cell_type": "markdown",
   "id": "8889d0f2",
   "metadata": {},
   "source": [
    "### Actividad 5:\n",
    "Sumar los elementos de dos listas posición por posición, utilizando solo bucles repetititivos (for,while)."
   ]
  },
  {
   "cell_type": "code",
   "execution_count": 15,
   "id": "bc0ec844",
   "metadata": {},
   "outputs": [
    {
     "name": "stdout",
     "output_type": "stream",
     "text": [
      "Resultado de la suma de las dos lista es : [3, 7, 11, 16, 18]\n"
     ]
    }
   ],
   "source": [
    "\n",
    "# todo:\n",
    "\n",
    "lists_one = [ 2,4,6,7,8 ]\n",
    "lists_two = [ 1,3,5,9,10 ]\n",
    "\n",
    "resultado = []\n",
    "for i in range(len(lists_one)):\n",
    "    suma = lists_one[i] + lists_two[i]\n",
    "    resultado.append(suma)\n",
    "print(\"Resultado de la suma de las dos lista es :\", resultado)"
   ]
  },
  {
   "cell_type": "markdown",
   "id": "8ce33e6b",
   "metadata": {},
   "source": [
    "### Actividad 6:\n",
    "\n",
    "Escribir un programa que almacene el abecedario en una lista, elimine de la lista las letras que ocupen posiciones múltiplos de 3, y muestre por pantalla la lista resultante."
   ]
  },
  {
   "cell_type": "code",
   "execution_count": null,
   "id": "b07326e2",
   "metadata": {},
   "outputs": [],
   "source": [
    "\n",
    "# todo:"
   ]
  },
  {
   "cell_type": "markdown",
   "id": "5bfeb4b5",
   "metadata": {},
   "source": [
    "### Actividad 7:\n",
    "\n",
    "Escribir un programa que pida al usuario una palabra y muestre por pantalla si es un palíndromo (una palabra que se escribe de la misma forma al derecho y al reves)."
   ]
  },
  {
   "cell_type": "code",
   "execution_count": null,
   "id": "2365afcc",
   "metadata": {},
   "outputs": [],
   "source": [
    "\n",
    "# todo:"
   ]
  },
  {
   "cell_type": "markdown",
   "id": "ed8b51be",
   "metadata": {},
   "source": [
    "### Actividad 8:\n",
    "\n",
    "Teniendo en cuenta el conjunto 1 y el conjunto 2, sin usar el operador de intersección &, calcular la intersección de dichos conjuntos."
   ]
  },
  {
   "cell_type": "code",
   "execution_count": null,
   "id": "21a434b9",
   "metadata": {},
   "outputs": [],
   "source": [
    "conjunto1 = {1, 2, 3, 4}\n",
    "conjunto2 = {3, 4, 5, 6}\n",
    "# todo:"
   ]
  },
  {
   "cell_type": "markdown",
   "id": "31b460dc",
   "metadata": {},
   "source": [
    "### Actividad 9:\n",
    "Eliminar duplicados de una lista usando un set."
   ]
  },
  {
   "cell_type": "code",
   "execution_count": null,
   "id": "0ef62008",
   "metadata": {},
   "outputs": [],
   "source": [
    "\n",
    "# todo:\n",
    "lista = [1, 2, 2, 3, 4, 4, 5]\n"
   ]
  },
  {
   "cell_type": "markdown",
   "id": "075f1f2c",
   "metadata": {},
   "source": [
    "### Actividad 10:\n",
    "\n",
    "Escribir un programa que cree 2 matrices y realice su multiplicacion."
   ]
  },
  {
   "cell_type": "code",
   "execution_count": null,
   "id": "4c1fd0e1",
   "metadata": {},
   "outputs": [],
   "source": [
    "\n",
    "# todo:"
   ]
  }
 ],
 "metadata": {
  "kernelspec": {
   "display_name": "Python 3",
   "language": "python",
   "name": "python3"
  },
  "language_info": {
   "codemirror_mode": {
    "name": "ipython",
    "version": 3
   },
   "file_extension": ".py",
   "mimetype": "text/x-python",
   "name": "python",
   "nbconvert_exporter": "python",
   "pygments_lexer": "ipython3",
   "version": "3.13.2"
  }
 },
 "nbformat": 4,
 "nbformat_minor": 5
}
